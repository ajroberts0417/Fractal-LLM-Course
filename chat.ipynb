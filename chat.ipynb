{
 "cells": [
  {
   "cell_type": "code",
   "execution_count": 1,
   "metadata": {},
   "outputs": [],
   "source": [
    "\"\"\"\n",
    "Using the MLC chat module to talk with Llama2.\n",
    "\"\"\"\n",
    "\n",
    "# import the chat module\n",
    "from mlc_chat import ChatModule\n",
    "from mlc_chat.callback import StreamToStdout\n",
    "\n",
    "# From the mlc-llm directory, run\n",
    "# $ python sample_mlc_chat.py\n"
   ]
  },
  {
   "cell_type": "code",
   "execution_count": 2,
   "metadata": {},
   "outputs": [
    {
     "name": "stderr",
     "output_type": "stream",
     "text": [
      "WARNING: lavapipe is not a conformant vulkan implementation, testing use only.\n"
     ]
    }
   ],
   "source": [
    "# Create a ChatModule instance\n",
    "cm = ChatModule(model=\"Llama-2-7b-chat-hf-q4f16_1\")\n",
    "# You can change to other models that you downloaded, for example,\n",
    "# cm = ChatModule(model=\"Llama-2-13b-chat-hf-q4f16_1\")  # Llama2 13b model"
   ]
  },
  {
   "cell_type": "code",
   "execution_count": 3,
   "metadata": {},
   "outputs": [
    {
     "name": "stdout",
     "output_type": "stream",
     "text": [
      "<mlc_chat.chat_module.ChatModule object at 0x7f28bbf88410>\n"
     ]
    }
   ],
   "source": [
    "print(cm)"
   ]
  },
  {
   "cell_type": "code",
   "execution_count": 4,
   "metadata": {},
   "outputs": [
    {
     "name": "stdout",
     "output_type": "stream",
     "text": [
      "Statistics: prefill: -nan tok/s, decode: -nan tok/s\n",
      "\n"
     ]
    }
   ],
   "source": [
    "print(f\"Statistics: {cm.stats()}\\n\")"
   ]
  },
  {
   "cell_type": "code",
   "execution_count": 5,
   "metadata": {},
   "outputs": [
    {
     "ename": "",
     "evalue": "",
     "output_type": "error",
     "traceback": [
      "\u001b[1;31mCannot execute code, session has been disposed. Please try restarting the Kernel."
     ]
    },
    {
     "ename": "",
     "evalue": "",
     "output_type": "error",
     "traceback": [
      "\u001b[1;31mThe Kernel crashed while executing code in the the current cell or a previous cell. Please review the code in the cell(s) to identify a possible cause of the failure. Click <a href='https://aka.ms/vscodeJupyterKernelCrash'>here</a> for more info. View Jupyter <a href='command:jupyter.viewOutput'>log</a> for further details."
     ]
    }
   ],
   "source": [
    "output = cm.generate(\n",
    "   prompt=\"What is the meaning of life?\",\n",
    "   progress_callback=StreamToStdout(callback_interval=2),\n",
    ")\n",
    "print(output)"
   ]
  },
  {
   "cell_type": "code",
   "execution_count": null,
   "metadata": {},
   "outputs": [],
   "source": [
    "# Print prefill and decode performance statistics\n",
    "print(f\"Statistics: {cm.stats()}\\n\")\n",
    "\n",
    "output = cm.generate(\n",
    "   prompt=\"How many points did you list out?\",\n",
    "   progress_callback=StreamToStdout(callback_interval=2),\n",
    ")\n",
    "\n",
    "# Reset the chat module by\n",
    "# cm.reset_chat()"
   ]
  }
 ],
 "metadata": {
  "kernelspec": {
   "display_name": "mlc-llm",
   "language": "python",
   "name": "python3"
  },
  "language_info": {
   "codemirror_mode": {
    "name": "ipython",
    "version": 3
   },
   "file_extension": ".py",
   "mimetype": "text/x-python",
   "name": "python",
   "nbconvert_exporter": "python",
   "pygments_lexer": "ipython3",
   "version": "3.11.6"
  },
  "orig_nbformat": 4
 },
 "nbformat": 4,
 "nbformat_minor": 2
}
