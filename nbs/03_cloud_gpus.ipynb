{
 "cells": [
  {
   "cell_type": "markdown",
   "metadata": {},
   "source": [
    "# Running LLMs in the Cloud\n",
    "\n",
    "> Creating an LLM environment for Fine-Tuning in a cloud GPU."
   ]
  },
  {
   "cell_type": "markdown",
   "metadata": {},
   "source": [
    "There are many companies that offer GPUs in the Cloud. In this Notebook we choose Paperspace for its mix of ease and options.  \n",
    "\n",
    "\n",
    "First, let's go over some cloud providers that cover different use-cases and options:   \n",
    "- Lambda Labs.   \n",
    "- Paperspace.  \n",
    "- Google Colab. \n",
    "\n",
    "\n",
    "[Lambda Labs](https://lambdalabs.com/) is a very popular GPU cloud provider. It has great pricing. Unfortunately, its combo of popularity and low costs means that GPUs are often claimed and we're not guaranteed to get one. Making an account and launching GPUs, when they *are* open, is incredibly fast and straightforward.  \n",
    "\n",
    "[Paperspace](https://www.paperspace.com/) offers cloud GPUs in two different, complementary ways. Their platform called Gradient is built around Notebooks and is tailored for quick ML and scientific jobs. Their CORE service, on the other hand, has more low-level options. We use it to fully customize and deploy a VM with a GPU. Paperspace tends to have better availability than Lambda Labs.    \n",
    "\n",
    "[Colab](https://colab.google/) is an option provided by Google. It builds around their own flavor of Notebooks that is very similar to Jupyter's. One of Colab's most useful features is the ability to directly load a Notebook straight from any of your Git repos. It's a convenient and flexible option without the overhead of Lambda or Paperspace.   \n",
    "\n",
    "\n",
    "> Note: the cloud GPU scene changes fast. The points above are rules of thumb, specifics change all of the time."
   ]
  },
  {
   "cell_type": "markdown",
   "metadata": {},
   "source": [
    "## Launching a GPU VM with Paperspace"
   ]
  },
  {
   "cell_type": "markdown",
   "metadata": {},
   "source": [
    "We use Paperspace because it lets us deploy custom VMs in different ways."
   ]
  },
  {
   "cell_type": "markdown",
   "metadata": {},
   "source": [
    "[Sign up](https://console.paperspace.com/signup) for a Paperspace account or log in if you already have one. After logging in, you should land at a similar page to this one:"
   ]
  },
  {
   "cell_type": "markdown",
   "metadata": {},
   "source": [
    "![](imgs/paperspace_startup.png)"
   ]
  },
  {
   "cell_type": "markdown",
   "metadata": {},
   "source": [
    "The `Create a Machine` button on the top-left takes us to the page for setting up and deploying VMs."
   ]
  },
  {
   "cell_type": "markdown",
   "metadata": {},
   "source": [
    "One of the first options is picking the OS on the VM. We use Ubuntu 22.04 to leverage its latest updates and improvements."
   ]
  },
  {
   "cell_type": "markdown",
   "metadata": {},
   "source": [
    "![](imgs/paperspace_os_choice.png)"
   ]
  },
  {
   "cell_type": "markdown",
   "metadata": {},
   "source": [
    "Next we pick the OS that the VM will run. The screenshot below shows the `Quadro M4000` GPU which is the cheapest option at $0.45 an hour. "
   ]
  },
  {
   "cell_type": "markdown",
   "metadata": {},
   "source": [
    "![](imgs/paperspace_gpu_choice.png)"
   ]
  },
  {
   "cell_type": "markdown",
   "metadata": {},
   "source": [
    "It's good to keep the cost of running these cloud VMs in mind, so we don't get any billing surprises. Below we do some quick math to see the costs of running this GPU:"
   ]
  },
  {
   "cell_type": "code",
   "execution_count": 1,
   "metadata": {},
   "outputs": [
    {
     "name": "stdout",
     "output_type": "stream",
     "text": [
      "\n",
      "Quadro M4000 Costs:\n",
      "Hour:  $0.45\n",
      "Day:   $10.80\n",
      "Week:  $75.60\n",
      "Month: $302.40\n",
      "\n"
     ]
    }
   ],
   "source": [
    "# price of an hour for the Quadro M4000 GPU\n",
    "price_per_hour = 0.45\n",
    "\n",
    "# leaving the machine on for a day\n",
    "day_cost = 24 * price_per_hour\n",
    "\n",
    "# leaving it on for a week\n",
    "week_cost = 7 * day_cost\n",
    "\n",
    "# leaving it up for a month\n",
    "month_cost = 4 * week_cost\n",
    "\n",
    "print(f\"\"\"\n",
    "Quadro M4000 Costs:\n",
    "Hour:  ${price_per_hour:.2f}\n",
    "Day:   ${day_cost:.2f}\n",
    "Week:  ${week_cost:.2f}\n",
    "Month: ${month_cost:.2f}\n",
    "\"\"\")"
   ]
  },
  {
   "cell_type": "markdown",
   "metadata": {},
   "source": [
    "Leaving it on for a full day isn't too bad. But the cost rises quickly the longer we leave on the machine. This is even worse with the more expensive GPU cards. Thankfully, the fine-tuning we'll be doing should fit well within a day. "
   ]
  },
  {
   "cell_type": "markdown",
   "metadata": {},
   "source": [
    "### VM's connection to the outside world"
   ]
  },
  {
   "cell_type": "markdown",
   "metadata": {},
   "source": [
    "Next we get to pick how to connect to this VM from a local computer: \n",
    "![](imgs/paperspace_vm_connect_opts.png)"
   ]
  },
  {
   "cell_type": "markdown",
   "metadata": {},
   "source": [
    "In this case we pick the [`ssh`](https://arjunaravind.in/blog/learning-and-using-ssh/) option."
   ]
  },
  {
   "cell_type": "markdown",
   "metadata": {},
   "source": [
    "Some of you likely have keys already in `~/.ssh`. If not, here are two good tutorial options for SSH setups. The first is this [Lambda Labs SSH tutorial](https://lambdalabs.com/blog/getting-started-with-lambda-cloud-gpu-instances). The second is a video from Paperspace embedded below."
   ]
  },
  {
   "cell_type": "code",
   "execution_count": 4,
   "metadata": {},
   "outputs": [
    {
     "data": {
      "image/jpeg": "[encoded data removed]",
      "text/html": [
       "\n",
       "        <iframe\n",
       "            width=\"700\"\n",
       "            height=\"400\"\n",
       "            src=\"https://www.youtube.com/embed/3E_C4H8XSGg\"\n",
       "            frameborder=\"0\"\n",
       "            allowfullscreen\n",
       "            \n",
       "        ></iframe>\n",
       "        "
      ],
      "text/plain": [
       "<IPython.lib.display.YouTubeVideo at 0x1065200d0>"
      ]
     },
     "execution_count": 4,
     "metadata": {},
     "output_type": "execute_result"
    }
   ],
   "source": [
    "#| hide\n",
    "# embedding Paperspace's youtube ssh tutorial directly in a Notebook\n",
    "from IPython.display import YouTubeVideo\n",
    "YouTubeVideo('3E_C4H8XSGg', width=700, height=400)\n"
   ]
  },
  {
   "cell_type": "markdown",
   "metadata": {},
   "source": [
    "Once you have your key, add it under the `SSH Keys` section of your Paperspace account before going forward:"
   ]
  },
  {
   "cell_type": "markdown",
   "metadata": {},
   "source": [
    "![](imgs/paperspace_ssh_key.png)"
   ]
  },
  {
   "cell_type": "markdown",
   "metadata": {},
   "source": [
    "We're almost done setting up the VM. Back at the bottom of the creation page, Paperspace summarizes the VM configuration and its cost. If the summary looks good, go ahead and click the `Create` button to deploy the cloud VM."
   ]
  },
  {
   "cell_type": "markdown",
   "metadata": {},
   "source": [
    "![](imgs/paperspace_cost_summary.png)"
   ]
  },
  {
   "cell_type": "markdown",
   "metadata": {},
   "source": [
    "Start the machine by clicking `Connect` from the main page:\n",
    "\n",
    "![](imgs/paperspace_machine_page.png)"
   ]
  },
  {
   "cell_type": "markdown",
   "metadata": {},
   "source": [
    "Once we connect to the machine, we need to install the nvidia drivers. This is the software that lets our Machine Learning algorithms take full advantage of the GPU.\n",
    "\n",
    "Here is an [excellent and clear guide](https://gist.github.com/denguir/b21aa66ae7fb1089655dd9de8351a202) to install the nvidia drivers.  "
   ]
  },
  {
   "cell_type": "markdown",
   "metadata": {},
   "source": [
    "### Alternative to NVIDIA Driver Installation"
   ]
  },
  {
   "cell_type": "markdown",
   "metadata": {},
   "source": [
    "Paperspace also offers a VM ready-to-go for Machine Learning applications. It's called `ML-In-A-Box` and includes the nvidia drivers. It's a great option if you want to get up and running quickly, or just want to skip the driver installation step (understandable).  \n",
    "\n",
    "This pre-configured VM might not have the latest version of the drivers, but we can always fix that later."
   ]
  },
  {
   "cell_type": "markdown",
   "metadata": {},
   "source": [
    "Here is a screenshot with both types of Machines: custom and `ML-In-A-Box`:\n",
    "![](imgs/paperspace_both_types.png)"
   ]
  },
  {
   "cell_type": "markdown",
   "metadata": {},
   "source": [
    "## Creating the `llm_base` environment in the VM"
   ]
  },
  {
   "cell_type": "markdown",
   "metadata": {},
   "source": [
    "For this example we'll use the `ML-In-A-Box` VM. But, the steps are roughly the same for the custom VM, after installing the nvidia drivers.   \n",
    "\n",
    "The steps below are mostly repeated from the first lesson on creating the Environment. The two main changes:  \n",
    "- The requirements are pip-installed in a different order than on Mac.   \n",
    "- We can now install the libraries in `reqs_optim.txt` to speed up the LLMs.    \n",
    "\n",
    "```bash\n",
    "## Setting up the Environment on a VM\n",
    "\n",
    "# connect to the Paperspace VM\n",
    "ssh paperspace@some-ip-here\n",
    "\n",
    "# install mamba\n",
    "curl -L -O \"https://github.com/conda-forge/miniforge/releases/latest/download/Miniforge3-$(uname)-$(uname -m).sh\"\n",
    "bash Miniforge3-$(uname)-$(uname -m).sh\n",
    "# NOTE: after installing mamba, refresh your terminal\n",
    "\n",
    "# clone the course repo\n",
    "git clone https://github.com/enzokro/Fractal-LLM-Course.git\n",
    "\n",
    "# move in to the environment folder\n",
    "cd Fractal-LLM-Course/Fractal_LLM_Course/lesson_0/envs\n",
    "\n",
    "# create the base environment\n",
    "mamba env create -f environment.yml\n",
    "\n",
    "# activate the environment\n",
    "mamba activate llm_base\n",
    "\n",
    "# install the pytorch library\n",
    "python -m pip install -r reqs_torch.txt\n",
    "\n",
    "# install the python packages, after activating the env\n",
    "python -m pip install -r requirements.txt  \n",
    "\n",
    "# now, we can also install the extra packages to speed up LLMs\n",
    "python -m pip install -r reqs_optim.txt  \n",
    "```"
   ]
  },
  {
   "cell_type": "markdown",
   "metadata": {},
   "source": [
    "### Checking if we can use the GPU"
   ]
  },
  {
   "cell_type": "markdown",
   "metadata": {},
   "source": [
    "Drum roll... moment of truth. Can we actually use the GPU with pytorch? Run the following python code in the terminal to find out:\n",
    "\n",
    "```python\n",
    "## first, make sure the `llm_base` environment is active\n",
    "## then, run the following python code in a shell\n",
    "\n",
    "# import the torch library\n",
    "import torch\n",
    "\n",
    "# check if we can see the GPU\n",
    "print(torch.cuda.is_available()) # should print \"True\"\n",
    "```  \n",
    "\n",
    "If the above command shows `True`, we're good to go! We now have the `llm_base` environment on a cloud VM with a working GPU."
   ]
  },
  {
   "cell_type": "markdown",
   "metadata": {},
   "source": [
    "### Tying this approach to Fine-Tuning"
   ]
  },
  {
   "cell_type": "markdown",
   "metadata": {},
   "source": [
    "Eventually, we'll reserve a stronger GPU (or more of the weaker ones) with more memory and resources to handle the LLM fine-tuning. "
   ]
  },
  {
   "cell_type": "markdown",
   "metadata": {},
   "source": [
    "## Summary"
   ]
  },
  {
   "cell_type": "markdown",
   "metadata": {},
   "source": [
    "This notebook covered how to launch and connect to a cloud GPU running on Paperspace. We then created the `llm_base` environment on the VM, mimicking our local environment. That means any notebook or command we've ran on our local computer can now run in the VM."
   ]
  },
  {
   "cell_type": "markdown",
   "metadata": {},
   "source": [
    "#### Aside(?): Going over CUDA driver install"
   ]
  },
  {
   "cell_type": "markdown",
   "metadata": {},
   "source": [
    "> Recording the CUDA driver install process..."
   ]
  },
  {
   "cell_type": "markdown",
   "metadata": {},
   "source": [
    "#### Aside(??): `llm_base` on Colab"
   ]
  }
 ],
 "metadata": {
  "kernelspec": {
   "display_name": "llm_base",
   "language": "python",
   "name": "python3"
  },
  "language_info": {
   "codemirror_mode": {
    "name": "ipython",
    "version": 3
   },
   "file_extension": ".py",
   "mimetype": "text/x-python",
   "name": "python",
   "nbconvert_exporter": "python",
   "pygments_lexer": "ipython3",
   "version": "3.11.5"
  },
  "orig_nbformat": 4
 },
 "nbformat": 4,
 "nbformat_minor": 2
}
