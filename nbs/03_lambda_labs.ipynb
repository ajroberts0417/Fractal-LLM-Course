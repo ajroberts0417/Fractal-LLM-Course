{
 "cells": [
  {
   "cell_type": "markdown",
   "metadata": {},
   "source": [
    "# Running Cloud GPUs\n",
    "\n",
    "> Creating our LLM environment in a cloud GPU for Fine-Tuning."
   ]
  },
  {
   "cell_type": "markdown",
   "metadata": {},
   "source": [
    "There are many companies that provide access to GPUs in the Cloud. In this Notebook we use a service called Paperspace for its mix of ease and flexibility.  \n",
    "\n",
    "\n",
    "First, let's go over some cloud providers to see different options and use-cases: \n",
    "- Google Colab.   \n",
    "- Lambda Labs.   \n",
    "- Paperspace.  \n",
    "\n",
    "There are many more options with different pricing and features, but these three cover a solid range of usability and price. \n",
    "\n",
    "[Lambda Labs](https://lambdalabs.com/) is one of the more popular GPU cloud providers. It has great pricing options. Unfortunately, this combo of popularity and low costs means that their GPUs are often unavailable. Making an account and launching GPUs, when one *is* open, is incredibly fast and straightfoward.  \n",
    "\n",
    "[Paperspace](https://www.paperspace.com/) offers cloud GPUs in two different, complementary ways. Their platform called Gradient is built around Notebooks and is tailored for ML and scientific experiments. Their CORE service has more low-level options, allowing you to build and deploy a custom VM with a GPU. Paperspace generally has better availability than Lambda Labs.    \n",
    "\n",
    "[Colab](https://colab.google/) is an option from Google. It is built around their own flavor of Notebooks that are very similar to Jupyter's. One of Colab's most useful features is the ability to directly load any Notebook straight from your Git repos. It's a convenient and flexible option without the overhead effort of Lambda or Paperspace.   \n",
    "\n",
    "\n",
    "> Note: the cloud GPU scene changes fast. The points above about cost or availability are rules of thumb. Actual uptime and costs change all the time. \n"
   ]
  },
  {
   "cell_type": "markdown",
   "metadata": {},
   "source": [
    "## Launching a GPU VM with Paperspace"
   ]
  },
  {
   "cell_type": "markdown",
   "metadata": {},
   "source": [
    "We picked Paperspace because it lets us deploy custom VMs. It's not as easy to use as Colab. But, we'll have the option to build the LLM environment for fine-tuning LLMs."
   ]
  },
  {
   "cell_type": "markdown",
   "metadata": {},
   "source": [
    "[Sign up](https://console.paperspace.com/signup) for a Paperspace account or log in if you already have one. After logging in, you should land at a similar page to this one:"
   ]
  },
  {
   "cell_type": "markdown",
   "metadata": {},
   "source": [
    "![](imgs/paperspace_startup.png)"
   ]
  },
  {
   "cell_type": "markdown",
   "metadata": {},
   "source": [
    "The `Create a Machine` button takes us to the page to setup and deploy the VM."
   ]
  },
  {
   "cell_type": "markdown",
   "metadata": {},
   "source": [
    "One of the first options is picking which OS the VM will run. We'll pick Ubuntu 22.04 to leverage its latest updates and improvements."
   ]
  },
  {
   "cell_type": "markdown",
   "metadata": {},
   "source": [
    "![](imgs/paperspace_os_choice.png)"
   ]
  },
  {
   "cell_type": "markdown",
   "metadata": {},
   "source": [
    "Next we can pick which type of GPU the VM will get. Here I picked the `Quadro M4000` which is the cheapest option as of writing, costing $0.45 an hour. "
   ]
  },
  {
   "cell_type": "markdown",
   "metadata": {},
   "source": [
    "![](imgs/paperspace_gpu_choice.png)"
   ]
  },
  {
   "cell_type": "markdown",
   "metadata": {},
   "source": [
    "Below some back-of-the-napkin math around what it costs to run the machine for different times, since this is  always good to keep this in mind."
   ]
  },
  {
   "cell_type": "code",
   "execution_count": 13,
   "metadata": {},
   "outputs": [
    {
     "name": "stdout",
     "output_type": "stream",
     "text": [
      "\n",
      "Quadro M4000 Costs:\n",
      "Hour:  $0.45\n",
      "Day:   $10.80\n",
      "Week:  $75.60\n",
      "Month: $302.40\n",
      "\n"
     ]
    }
   ],
   "source": [
    "# price for an hour of Quadro M4000 use\n",
    "price_per_hour = 0.45\n",
    "\n",
    "# leaving the machine on for a day\n",
    "day_cost = 24 * price_per_hour\n",
    "\n",
    "# leaving it on for a week\n",
    "week_cost = 7 * day_cost\n",
    "\n",
    "# leaving it up for a month\n",
    "month_cost = 4 * week_cost\n",
    "\n",
    "print(f\"\"\"\n",
    "Quadro M4000 Costs:\n",
    "Hour:  ${price_per_hour:.2f}\n",
    "Day:   ${day_cost:.2f}\n",
    "Week:  ${week_cost:.2f}\n",
    "Month: ${month_cost:.2f}\n",
    "\"\"\")"
   ]
  },
  {
   "cell_type": "markdown",
   "metadata": {},
   "source": [
    "Leaving it on for a full day isn't too bad. But the cost rise quickly as we leave the machine on for longer. This gets even worse with more expensive machines. Thankfully, the fine-tuning we'll be doing should fit well within a day. "
   ]
  },
  {
   "cell_type": "markdown",
   "metadata": {},
   "source": [
    "### Connecting to the VM"
   ]
  },
  {
   "cell_type": "markdown",
   "metadata": {},
   "source": [
    "Next we get to pick between two way of connecting to the VM.  \n",
    "\n",
    "![](imgs/paperspace_vm_connect_opts.png)"
   ]
  },
  {
   "cell_type": "markdown",
   "metadata": {},
   "source": [
    "In this case we will use the [`ssh`](https://arjunaravind.in/blog/learning-and-using-ssh/) option."
   ]
  },
  {
   "cell_type": "markdown",
   "metadata": {},
   "source": [
    "Below are two good options for SSH setup tutorials. The first is this text-based [Lambda Labs SSH tutorial](https://lambdalabs.com/blog/getting-started-with-lambda-cloud-gpu-instances). The second is a video from Paperspace embedded below."
   ]
  },
  {
   "cell_type": "code",
   "execution_count": 4,
   "metadata": {},
   "outputs": [
    {
     "data": {
      "image/jpeg": "[encoded data removed]",
      "text/html": [
       "\n",
       "        <iframe\n",
       "            width=\"700\"\n",
       "            height=\"400\"\n",
       "            src=\"https://www.youtube.com/embed/3E_C4H8XSGg\"\n",
       "            frameborder=\"0\"\n",
       "            allowfullscreen\n",
       "            \n",
       "        ></iframe>\n",
       "        "
      ],
      "text/plain": [
       "<IPython.lib.display.YouTubeVideo at 0x1105c93d0>"
      ]
     },
     "execution_count": 4,
     "metadata": {},
     "output_type": "execute_result"
    }
   ],
   "source": [
    "#| hide\n",
    "# embedding Paperspace's youtube ssh tutorial directly in a Notebook\n",
    "from IPython.display import YouTubeVideo\n",
    "YouTubeVideo('3E_C4H8XSGg', width=700, height=400)\n"
   ]
  },
  {
   "cell_type": "markdown",
   "metadata": {},
   "source": [
    "We're almost done. At the bottom of the page, Paperspace breakdowns the VM configuration and its cost. If the summary looks good, go ahead and click the `Create` button to deploy the cloud VM."
   ]
  },
  {
   "cell_type": "markdown",
   "metadata": {},
   "source": [
    "> Note: There is also an \"Advanced options\" section with more low-level options for the VM."
   ]
  },
  {
   "cell_type": "markdown",
   "metadata": {},
   "source": [
    "![](imgs/paperspace_cost_summary.png)"
   ]
  },
  {
   "cell_type": "markdown",
   "metadata": {},
   "source": [
    "Next, we have to start the VM before we connect to it. After following the SSH tutorials you should have your own  key. Add it under the `SSH Keys` section of your Paperspace account as shown below:"
   ]
  },
  {
   "cell_type": "markdown",
   "metadata": {},
   "source": [
    "![](imgs/paperspace_ssh_key.png)"
   ]
  },
  {
   "cell_type": "markdown",
   "metadata": {},
   "source": [
    "Start the machine by clicking `Connect` from the main page:\n",
    "\n",
    "![](imgs/paperspace_machine_page.png)"
   ]
  },
  {
   "cell_type": "markdown",
   "metadata": {},
   "source": [
    "Once we connect to the machine, we need to install the nvidia drivers. This is the software that lets our Machine Learning algorithms take full advantage of the GPU.\n",
    "\n",
    "Here is an [excellent and clear guide](https://gist.github.com/denguir/b21aa66ae7fb1089655dd9de8351a202) to install the nvidia drivers.  "
   ]
  },
  {
   "cell_type": "markdown",
   "metadata": {},
   "source": [
    "### Alternative to NVIDIA Driver Installation"
   ]
  },
  {
   "cell_type": "markdown",
   "metadata": {},
   "source": [
    "Paperspace offers a ready-to-go VM option. It's called `ML-In-A-Box`, and already includes the nvidia drivers. It's a great option if you want to skip the driver installation step.  \n",
    "\n",
    "It doesn't install the latest version of the drivers, but it's a great option to get started quickly. We can also always install drivers later."
   ]
  },
  {
   "cell_type": "markdown",
   "metadata": {},
   "source": [
    "Here is a screenshot with both types of Machines: custom and `ML-In-A-Box`:\n",
    "![](imgs/paperspace_both_types.png)"
   ]
  }
 ],
 "metadata": {
  "kernelspec": {
   "display_name": "llm_base",
   "language": "python",
   "name": "python3"
  },
  "language_info": {
   "codemirror_mode": {
    "name": "ipython",
    "version": 3
   },
   "file_extension": ".py",
   "mimetype": "text/x-python",
   "name": "python",
   "nbconvert_exporter": "python",
   "pygments_lexer": "ipython3",
   "version": "3.11.5"
  },
  "orig_nbformat": 4
 },
 "nbformat": 4,
 "nbformat_minor": 2
}
