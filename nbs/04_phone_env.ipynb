{
 "cells": [
  {
   "cell_type": "markdown",
   "metadata": {},
   "source": [
    "# LLMs on a phone\n",
    "\n",
    "> Creating an environment to compile LLMs into phone apps. Assumes iOS or Mac for now."
   ]
  },
  {
   "cell_type": "code",
   "execution_count": null,
   "metadata": {
    "vscode": {
     "languageId": "plaintext"
    }
   },
   "outputs": [],
   "source": [
    "- mlc\n",
    "- tutorial\n",
    "- course\n",
    "- video\n",
    "- instructions, env\n",
    "- ios instructions, env\n",
    "- creating the app on xcode\n",
    "- building it, simulating it\n",
    "- putting it on the phone"
   ]
  }
 ],
 "metadata": {
  "language_info": {
   "name": "python"
  },
  "orig_nbformat": 4
 },
 "nbformat": 4,
 "nbformat_minor": 2
}
