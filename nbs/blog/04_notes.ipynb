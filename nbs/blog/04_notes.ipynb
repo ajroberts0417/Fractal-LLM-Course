{
 "cells": [
  {
   "cell_type": "code",
   "execution_count": 2,
   "metadata": {},
   "outputs": [
    {
     "name": "stdout",
     "output_type": "stream",
     "text": [
      "Lecture 4 -- Llama CPP and running LLMs on your phone\n"
     ]
    }
   ],
   "source": [
    "print(\"Lecture 4 -- Llama CPP and running LLMs on your phone\")"
   ]
  },
  {
   "attachments": {},
   "cell_type": "markdown",
   "metadata": {},
   "source": [
    "# Lecture 4 Notes\n",
    "- [Llama CPP](https://github.com/ggerganov/llama.cpp) is a tool for running Llama (and now all open source models) easily and quickly in C and C++. If you want to look at state of the art open source ML work, the pull requests on this repo are a good place to start.\n",
    "- [MLC.ai](https://mlc.ai/chapter_introduction/index.html) is the best course out there for learning how to compile and deploy machine learning applications into deployment environments (like running on your laptop or smartphone or on any other device)"
   ]
  },
  {
   "attachments": {},
   "cell_type": "markdown",
   "metadata": {},
   "source": []
  },
  {
   "cell_type": "code",
   "execution_count": 3,
   "metadata": {
    "vscode": {
     "languageId": "shellscript"
    }
   },
   "outputs": [
    {
     "ename": "NameError",
     "evalue": "name 'nvidia' is not defined",
     "output_type": "error",
     "traceback": [
      "\u001b[0;31m---------------------------------------------------------------------------\u001b[0m",
      "\u001b[0;31mNameError\u001b[0m                                 Traceback (most recent call last)",
      "Cell \u001b[0;32mIn[3], line 2\u001b[0m\n\u001b[1;32m      1\u001b[0m \u001b[39m# to get the nvidia graphics card information for my paperspace machine\u001b[39;00m\n\u001b[0;32m----> 2\u001b[0m nvidia\u001b[39m-\u001b[39msmi\n",
      "\u001b[0;31mNameError\u001b[0m: name 'nvidia' is not defined"
     ]
    }
   ],
   "source": [
    "# to get the nvidia graphics card information for my paperspace machine\n",
    "nvidia-smi"
   ]
  },
  {
   "cell_type": "code",
   "execution_count": null,
   "metadata": {
    "vscode": {
     "languageId": "shellscript"
    }
   },
   "outputs": [],
   "source": [
    "# to install git LFS:\n",
    "curl -s https://packagecloud.io/install/repositories/github/git-lfs/script.deb.sh | sudo bash\n",
    "sudo apt-get install git-lfs\n",
    "git lfs install\n",
    "git lfs version"
   ]
  },
  {
   "cell_type": "code",
   "execution_count": 2,
   "metadata": {},
   "outputs": [],
   "source": [
    "\"\"\"\n",
    "Using the MLC chat module to talk with Llama2.\n",
    "\"\"\"\n",
    "\n",
    "# import the chat module\n",
    "from mlc_chat import ChatModule\n",
    "from mlc_chat.callback import StreamToStdout\n",
    "\n",
    "# From the mlc-llm directory, run\n",
    "# $ python sample_mlc_chat.py\n",
    "\n",
    "# Create a ChatModule instance\n",
    "# cm = ChatModule(model=\"Llama-2-7b-chat-hf-q4f16_1\")\n",
    "# You can change to other models that you downloaded, for example,\n",
    "# cm = ChatModule(model=\"Llama-2-13b-chat-hf-q4f16_1\")  # Llama2 13b model\n"
   ]
  }
 ],
 "metadata": {
  "kernelspec": {
   "display_name": "llm_base",
   "language": "python",
   "name": "python3"
  },
  "language_info": {
   "codemirror_mode": {
    "name": "ipython",
    "version": 3
   },
   "file_extension": ".py",
   "mimetype": "text/x-python",
   "name": "python",
   "nbconvert_exporter": "python",
   "pygments_lexer": "ipython3",
   "version": "3.11.6"
  },
  "orig_nbformat": 4
 },
 "nbformat": 4,
 "nbformat_minor": 2
}
